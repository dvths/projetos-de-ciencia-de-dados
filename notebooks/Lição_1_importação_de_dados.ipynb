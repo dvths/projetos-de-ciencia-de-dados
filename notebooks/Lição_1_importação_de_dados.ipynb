{
 "cells": [
  {
   "cell_type": "markdown",
   "id": "c1940b51",
   "metadata": {},
   "source": [
    "# Exploração e limpeza de dados de contas de crédito de titulares inadimplentes após seis meses "
   ]
  },
  {
   "cell_type": "markdown",
   "id": "729d7f00",
   "metadata": {},
   "source": [
    "**Assunto**: Exploração e limpeza de dados\n",
    "\n",
    "**Data**: 16/05/2023\n",
    "\n",
    "**Contexto**: Foi recebido de uma empresa de cartão de crédito, um dataset que inclui dados domográficos e dados financeiros recentes (últimos seis meses) de uma amostra de 30.000 titulares de contas. A **definição de linha** desse dataset é contas de crédito. O dados trazem o titular que deixou de realizar o pagamento mínimo no mês seguinte ao período histórico de seis meses.\n",
    "\n",
    "**Objetivo**: Desenvolver um modelo que preveja se uma conta ficará inadimplente no próximo mês, de acordo com dados demográficos e históricos."
   ]
  },
  {
   "cell_type": "markdown",
   "id": "6a28de12",
   "metadata": {},
   "source": [
    "## Vrerificação da integridade dos dados"
   ]
  },
  {
   "cell_type": "markdown",
   "id": "4860cd4d",
   "metadata": {},
   "source": [
    "### Importação do dados a partir de um arquivo `xls` (exel)"
   ]
  },
  {
   "cell_type": "code",
   "execution_count": 3,
   "id": "33b6d515",
   "metadata": {},
   "outputs": [],
   "source": [
    "# Importação do pacote Pandas\n",
    "import pandas as pd"
   ]
  },
  {
   "cell_type": "markdown",
   "id": "bb878aaf",
   "metadata": {},
   "source": [
    "O método `pd.read_excel` carrega o arquivo que está em formato excel no diretório dos dados:"
   ]
  },
  {
   "cell_type": "code",
   "execution_count": 4,
   "id": "7045f2dd",
   "metadata": {},
   "outputs": [],
   "source": [
    "df = pd.read_excel('../data/default_of_credit_card_clients__courseware_version_1_21_19.xls')"
   ]
  },
  {
   "cell_type": "markdown",
   "id": "25684fa2",
   "metadata": {},
   "source": [
    "Isso gera um **DataFrame** que é chamado de `df`."
   ]
  },
  {
   "cell_type": "markdown",
   "id": "8992f1c0",
   "metadata": {},
   "source": [
    "1. `df.shape` para examinar o número de linas e colunas: "
   ]
  },
  {
   "cell_type": "code",
   "execution_count": 5,
   "id": "fa1b2417",
   "metadata": {},
   "outputs": [
    {
     "data": {
      "text/plain": [
       "(30000, 25)"
      ]
     },
     "execution_count": 5,
     "metadata": {},
     "output_type": "execute_result"
    }
   ],
   "source": [
    "df.shape"
   ]
  },
  {
   "cell_type": "markdown",
   "id": "69ed341a",
   "metadata": {},
   "source": [
    "2. `df.info` para obter informações sobre todas as colunas: "
   ]
  },
  {
   "cell_type": "code",
   "execution_count": 6,
   "id": "0b4bf19e",
   "metadata": {},
   "outputs": [
    {
     "name": "stdout",
     "output_type": "stream",
     "text": [
      "<class 'pandas.core.frame.DataFrame'>\n",
      "RangeIndex: 30000 entries, 0 to 29999\n",
      "Data columns (total 25 columns):\n",
      " #   Column                      Non-Null Count  Dtype \n",
      "---  ------                      --------------  ----- \n",
      " 0   ID                          30000 non-null  object\n",
      " 1   LIMIT_BAL                   30000 non-null  int64 \n",
      " 2   SEX                         30000 non-null  int64 \n",
      " 3   EDUCATION                   30000 non-null  int64 \n",
      " 4   MARRIAGE                    30000 non-null  int64 \n",
      " 5   AGE                         30000 non-null  int64 \n",
      " 6   PAY_1                       30000 non-null  object\n",
      " 7   PAY_2                       30000 non-null  int64 \n",
      " 8   PAY_3                       30000 non-null  int64 \n",
      " 9   PAY_4                       30000 non-null  int64 \n",
      " 10  PAY_5                       30000 non-null  int64 \n",
      " 11  PAY_6                       30000 non-null  int64 \n",
      " 12  BILL_AMT1                   30000 non-null  int64 \n",
      " 13  BILL_AMT2                   30000 non-null  int64 \n",
      " 14  BILL_AMT3                   30000 non-null  int64 \n",
      " 15  BILL_AMT4                   30000 non-null  int64 \n",
      " 16  BILL_AMT5                   30000 non-null  int64 \n",
      " 17  BILL_AMT6                   30000 non-null  int64 \n",
      " 18  PAY_AMT1                    30000 non-null  int64 \n",
      " 19  PAY_AMT2                    30000 non-null  int64 \n",
      " 20  PAY_AMT3                    30000 non-null  int64 \n",
      " 21  PAY_AMT4                    30000 non-null  int64 \n",
      " 22  PAY_AMT5                    30000 non-null  int64 \n",
      " 23  PAY_AMT6                    30000 non-null  int64 \n",
      " 24  default payment next month  30000 non-null  int64 \n",
      "dtypes: int64(23), object(2)\n",
      "memory usage: 5.7+ MB\n"
     ]
    }
   ],
   "source": [
    "df.info()"
   ]
  },
  {
   "cell_type": "markdown",
   "id": "7a61e8a4",
   "metadata": {},
   "source": [
    "Usando o método `df.colums` podemos examinar os nomes de todas as colunas:"
   ]
  },
  {
   "cell_type": "code",
   "execution_count": 8,
   "id": "39336044",
   "metadata": {},
   "outputs": [
    {
     "data": {
      "text/plain": [
       "Index(['ID', 'LIMIT_BAL', 'SEX', 'EDUCATION', 'MARRIAGE', 'AGE', 'PAY_1',\n",
       "       'PAY_2', 'PAY_3', 'PAY_4', 'PAY_5', 'PAY_6', 'BILL_AMT1', 'BILL_AMT2',\n",
       "       'BILL_AMT3', 'BILL_AMT4', 'BILL_AMT5', 'BILL_AMT6', 'PAY_AMT1',\n",
       "       'PAY_AMT2', 'PAY_AMT3', 'PAY_AMT4', 'PAY_AMT5', 'PAY_AMT6',\n",
       "       'default payment next month'],\n",
       "      dtype='object')"
      ]
     },
     "execution_count": 8,
     "metadata": {},
     "output_type": "execute_result"
    }
   ],
   "source": [
    "df.columns"
   ]
  },
  {
   "cell_type": "markdown",
   "id": "82528aa2",
   "metadata": {},
   "source": [
    "**Dicionario dos dados**:\n",
    "\n",
    "É fundamental, quando recebemos um dataset que não conhecemos, solicitar também o dicion\n",
    "Apesar de não ter encontrado o dicionário dos dados no repositório, como autor solicita, o mesmo faz um resumo breve do significam as colunas.\n",
    "\n",
    "- **LIMIT_BAL**: Valor do cédito fornecido (em dólares taiwaneses (NT)) inclusive o cŕedito do consumidor individual e familiar(complementar.\n",
    "- **SEX**: Gênero (1 = masculino; 2 = feminino).\n",
    "- **EDUCATION**: Instrução (1 = pós-graduação; 2 = universidade; 3 = ensino médio; 4 = outros.\n",
    "- **MARRIAGE**:Estado civil (1 = casado; 2 = solteiro; 3 = outros).\n",
    "- **AGE**: Idade (ano).\n",
    "- **PAY_1 - PAY_6**: Registro de pagamentos passados. Pagamentos mensais passados, registrados de abril a setembro.\n",
    "- **PAY_1**: Representa o status de reembolso em Setembro; `PAY_2` = estatus de Agosto; `PAY_3` = status de Julho, sucessivamente, até Abril. \n",
    "    A escala de medida do status de reembolso é a seguinte: 1 = atraso de um mês no pagamento; 2 = atraso de dois meses no pagamento; assim por diante até 8 = atraso de oito meses no pagamento; 9 = atraso de nove meses ou mais no pagamento. \n",
    "- **BILL_ATM1 - BILL_ATM6**: Valor da fatura (em dólares taiwaneses)\n",
    "- **BILL_ATM1**: Representa o valor da fatura em Setembro; `BILL_ATM2` representa a fatura de Agosto; assim por diante até `BILL_ATM7`, que representa o valor da fatura em Abril.\n",
    "- **PAY_ATM1 - PAY_ATM6**: Valor de pagamentos anteriores (novos dólares taiwaneses).\n",
    "- **PAY_ATM1**: Representa o valor pago em Setembro; `PAY_ATM2` representa a fatura de Agosto; assim por diante até `PAY_ATM6` que representa o valor pago em Abril.\n",
    "\n"
   ]
  },
  {
   "cell_type": "markdown",
   "id": "5956ae06",
   "metadata": {},
   "source": [
    "### Verificando a integridade dos dados"
   ]
  },
  {
   "cell_type": "markdown",
   "id": "584423c3",
   "metadata": {},
   "source": [
    "Vimos com o método `df.shape` que o dataset possui 30000 registros (amostra) que equivalem há 30000 observações referentes a contas de crédito. E 25 colunas que equivalem às variáveis que podem ser características, resposta ou métadado.  \n",
    "\n",
    "1. Verificando se o número de identificadores únicos corresponde à quantidade de registros no dataset: \n",
    "    A primeira coisa a se pensar é: \"Esse dataset está correto?\". Essa verificação pode ser feita nos sertificando que a quantidade de registros é igual a quantidade de identificadores únicos do dataset. Assim garantimos que a quantidade da amostra está correta. \n",
    "    \n",
    "O método `head()` é usados para vermos como está o aspecto dos dados através da visualização dos primeiros registros:"
   ]
  },
  {
   "cell_type": "code",
   "execution_count": 7,
   "id": "d6ddb2f6",
   "metadata": {},
   "outputs": [
    {
     "data": {
      "text/html": [
       "<div>\n",
       "<style scoped>\n",
       "    .dataframe tbody tr th:only-of-type {\n",
       "        vertical-align: middle;\n",
       "    }\n",
       "\n",
       "    .dataframe tbody tr th {\n",
       "        vertical-align: top;\n",
       "    }\n",
       "\n",
       "    .dataframe thead th {\n",
       "        text-align: right;\n",
       "    }\n",
       "</style>\n",
       "<table border=\"1\" class=\"dataframe\">\n",
       "  <thead>\n",
       "    <tr style=\"text-align: right;\">\n",
       "      <th></th>\n",
       "      <th>ID</th>\n",
       "      <th>LIMIT_BAL</th>\n",
       "      <th>SEX</th>\n",
       "      <th>EDUCATION</th>\n",
       "      <th>MARRIAGE</th>\n",
       "      <th>AGE</th>\n",
       "      <th>PAY_1</th>\n",
       "      <th>PAY_2</th>\n",
       "      <th>PAY_3</th>\n",
       "      <th>PAY_4</th>\n",
       "      <th>...</th>\n",
       "      <th>BILL_AMT4</th>\n",
       "      <th>BILL_AMT5</th>\n",
       "      <th>BILL_AMT6</th>\n",
       "      <th>PAY_AMT1</th>\n",
       "      <th>PAY_AMT2</th>\n",
       "      <th>PAY_AMT3</th>\n",
       "      <th>PAY_AMT4</th>\n",
       "      <th>PAY_AMT5</th>\n",
       "      <th>PAY_AMT6</th>\n",
       "      <th>default payment next month</th>\n",
       "    </tr>\n",
       "  </thead>\n",
       "  <tbody>\n",
       "    <tr>\n",
       "      <th>0</th>\n",
       "      <td>798fc410-45c1</td>\n",
       "      <td>20000</td>\n",
       "      <td>2</td>\n",
       "      <td>2</td>\n",
       "      <td>1</td>\n",
       "      <td>24</td>\n",
       "      <td>2</td>\n",
       "      <td>2</td>\n",
       "      <td>-1</td>\n",
       "      <td>-1</td>\n",
       "      <td>...</td>\n",
       "      <td>0</td>\n",
       "      <td>0</td>\n",
       "      <td>0</td>\n",
       "      <td>0</td>\n",
       "      <td>689</td>\n",
       "      <td>0</td>\n",
       "      <td>0</td>\n",
       "      <td>0</td>\n",
       "      <td>0</td>\n",
       "      <td>1</td>\n",
       "    </tr>\n",
       "    <tr>\n",
       "      <th>1</th>\n",
       "      <td>8a8c8f3b-8eb4</td>\n",
       "      <td>120000</td>\n",
       "      <td>2</td>\n",
       "      <td>2</td>\n",
       "      <td>2</td>\n",
       "      <td>26</td>\n",
       "      <td>-1</td>\n",
       "      <td>2</td>\n",
       "      <td>0</td>\n",
       "      <td>0</td>\n",
       "      <td>...</td>\n",
       "      <td>3272</td>\n",
       "      <td>3455</td>\n",
       "      <td>3261</td>\n",
       "      <td>0</td>\n",
       "      <td>1000</td>\n",
       "      <td>1000</td>\n",
       "      <td>1000</td>\n",
       "      <td>0</td>\n",
       "      <td>2000</td>\n",
       "      <td>1</td>\n",
       "    </tr>\n",
       "    <tr>\n",
       "      <th>2</th>\n",
       "      <td>85698822-43f5</td>\n",
       "      <td>90000</td>\n",
       "      <td>2</td>\n",
       "      <td>2</td>\n",
       "      <td>2</td>\n",
       "      <td>34</td>\n",
       "      <td>0</td>\n",
       "      <td>0</td>\n",
       "      <td>0</td>\n",
       "      <td>0</td>\n",
       "      <td>...</td>\n",
       "      <td>14331</td>\n",
       "      <td>14948</td>\n",
       "      <td>15549</td>\n",
       "      <td>1518</td>\n",
       "      <td>1500</td>\n",
       "      <td>1000</td>\n",
       "      <td>1000</td>\n",
       "      <td>1000</td>\n",
       "      <td>5000</td>\n",
       "      <td>0</td>\n",
       "    </tr>\n",
       "    <tr>\n",
       "      <th>3</th>\n",
       "      <td>0737c11b-be42</td>\n",
       "      <td>50000</td>\n",
       "      <td>2</td>\n",
       "      <td>2</td>\n",
       "      <td>1</td>\n",
       "      <td>37</td>\n",
       "      <td>0</td>\n",
       "      <td>0</td>\n",
       "      <td>0</td>\n",
       "      <td>0</td>\n",
       "      <td>...</td>\n",
       "      <td>28314</td>\n",
       "      <td>28959</td>\n",
       "      <td>29547</td>\n",
       "      <td>2000</td>\n",
       "      <td>2019</td>\n",
       "      <td>1200</td>\n",
       "      <td>1100</td>\n",
       "      <td>1069</td>\n",
       "      <td>1000</td>\n",
       "      <td>0</td>\n",
       "    </tr>\n",
       "    <tr>\n",
       "      <th>4</th>\n",
       "      <td>3b7f77cc-dbc0</td>\n",
       "      <td>50000</td>\n",
       "      <td>1</td>\n",
       "      <td>2</td>\n",
       "      <td>1</td>\n",
       "      <td>57</td>\n",
       "      <td>-1</td>\n",
       "      <td>0</td>\n",
       "      <td>-1</td>\n",
       "      <td>0</td>\n",
       "      <td>...</td>\n",
       "      <td>20940</td>\n",
       "      <td>19146</td>\n",
       "      <td>19131</td>\n",
       "      <td>2000</td>\n",
       "      <td>36681</td>\n",
       "      <td>10000</td>\n",
       "      <td>9000</td>\n",
       "      <td>689</td>\n",
       "      <td>679</td>\n",
       "      <td>0</td>\n",
       "    </tr>\n",
       "  </tbody>\n",
       "</table>\n",
       "<p>5 rows × 25 columns</p>\n",
       "</div>"
      ],
      "text/plain": [
       "              ID  LIMIT_BAL  SEX  EDUCATION  MARRIAGE  AGE PAY_1  PAY_2  \\\n",
       "0  798fc410-45c1      20000    2          2         1   24     2      2   \n",
       "1  8a8c8f3b-8eb4     120000    2          2         2   26    -1      2   \n",
       "2  85698822-43f5      90000    2          2         2   34     0      0   \n",
       "3  0737c11b-be42      50000    2          2         1   37     0      0   \n",
       "4  3b7f77cc-dbc0      50000    1          2         1   57    -1      0   \n",
       "\n",
       "   PAY_3  PAY_4  ...  BILL_AMT4  BILL_AMT5  BILL_AMT6  PAY_AMT1  PAY_AMT2  \\\n",
       "0     -1     -1  ...          0          0          0         0       689   \n",
       "1      0      0  ...       3272       3455       3261         0      1000   \n",
       "2      0      0  ...      14331      14948      15549      1518      1500   \n",
       "3      0      0  ...      28314      28959      29547      2000      2019   \n",
       "4     -1      0  ...      20940      19146      19131      2000     36681   \n",
       "\n",
       "   PAY_AMT3  PAY_AMT4  PAY_AMT5  PAY_AMT6  default payment next month  \n",
       "0         0         0         0         0                           1  \n",
       "1      1000      1000         0      2000                           1  \n",
       "2      1000      1000      1000      5000                           0  \n",
       "3      1200      1100      1069      1000                           0  \n",
       "4     10000      9000       689       679                           0  \n",
       "\n",
       "[5 rows x 25 columns]"
      ]
     },
     "execution_count": 7,
     "metadata": {},
     "output_type": "execute_result"
    }
   ],
   "source": [
    "df.head()"
   ]
  },
  {
   "cell_type": "markdown",
   "id": "2c8886c3",
   "metadata": {},
   "source": [
    "> ver nota sobre daos tabulares e tipos de dados"
   ]
  },
  {
   "cell_type": "markdown",
   "id": "505f4e74",
   "metadata": {},
   "source": [
    "Notamos que a coluna `ID` contém os valores exclusivos. Para verificar se isso acontece em toda a base de dados, usamos o método `nunique()` na **serie**, ou seja, na coluna que queremos observar:"
   ]
  },
  {
   "cell_type": "code",
   "execution_count": 12,
   "id": "98d850c6",
   "metadata": {},
   "outputs": [
    {
     "data": {
      "text/plain": [
       "29687"
      ]
     },
     "execution_count": 12,
     "metadata": {},
     "output_type": "execute_result"
    }
   ],
   "source": [
    "df['ID'].nunique()"
   ]
  },
  {
   "cell_type": "markdown",
   "id": "3d94dd4a",
   "metadata": {},
   "source": [
    "A saida do método acima indica que temos uma diferença entre a quantidadde de linhas e a quantidade de identificadores únicos. Isso significa que possívelmente temos IDs duplicados, mas em que quantidade? \n",
    "Para começarmos a reponder a essa pergunta, podemos usar o método `value_counts()` na série `ID`. Esse método é semelhante ao procedimento `GROUP BY/COUNT` do SQL e listará os IDs exclusivos e **frequência** com que ocorrem. Para obter os valores, o resultado é armazenado na variável `id_counts` e exibido com o método `head()`:"
   ]
  },
  {
   "cell_type": "code",
   "execution_count": 16,
   "id": "dcda3be0",
   "metadata": {},
   "outputs": [
    {
     "data": {
      "text/plain": [
       "ad23fe5c-7b09    2\n",
       "1fb3e3e6-a68d    2\n",
       "89f8f447-fca8    2\n",
       "7c9b7473-cc2f    2\n",
       "90330d02-82d9    2\n",
       "Name: ID, dtype: int64"
      ]
     },
     "execution_count": 16,
     "metadata": {},
     "output_type": "execute_result"
    }
   ],
   "source": [
    "id_counts = df['ID'].value_counts()\n",
    "id_counts.head() "
   ]
  },
  {
   "cell_type": "code",
   "execution_count": 18,
   "id": "4dd4868a",
   "metadata": {},
   "outputs": [
    {
     "data": {
      "text/plain": [
       "1    29374\n",
       "2      313\n",
       "Name: ID, dtype: int64"
      ]
     },
     "execution_count": 18,
     "metadata": {},
     "output_type": "execute_result"
    }
   ],
   "source": [
    "# Exibindo as entradas duplicadas agrupadas executando outra contagem de valores: \n",
    "id_counts.value_counts()"
   ]
  },
  {
   "cell_type": "markdown",
   "id": "fdf3cd66",
   "metadata": {},
   "source": [
    "A saída mostra que a maioria dos IDs apenas uma vez, como esperado, contudo, existem 313 IDs que ocorrem 2 vezes. Para examinarmos alguns desses IDs duplicados usaremo o conceito de <a href=\"./Entendendo_máscaras_booleanas.ipynb\" >**máscaras booleanas**.</a> "
   ]
  },
  {
   "cell_type": "raw",
   "id": "dcb20cce",
   "metadata": {},
   "source": [
    "Continua..."
   ]
  },
  {
   "cell_type": "code",
   "execution_count": null,
   "id": "8762a879",
   "metadata": {},
   "outputs": [],
   "source": []
  }
 ],
 "metadata": {
  "kernelspec": {
   "display_name": "Python 3 (ipykernel)",
   "language": "python",
   "name": "python3"
  },
  "language_info": {
   "codemirror_mode": {
    "name": "ipython",
    "version": 3
   },
   "file_extension": ".py",
   "mimetype": "text/x-python",
   "name": "python",
   "nbconvert_exporter": "python",
   "pygments_lexer": "ipython3",
   "version": "3.11.3"
  },
  "toc": {
   "base_numbering": 1,
   "nav_menu": {},
   "number_sections": true,
   "sideBar": true,
   "skip_h1_title": false,
   "title_cell": "Table of Contents",
   "title_sidebar": "Contents",
   "toc_cell": false,
   "toc_position": {},
   "toc_section_display": true,
   "toc_window_display": false
  }
 },
 "nbformat": 4,
 "nbformat_minor": 5
}
