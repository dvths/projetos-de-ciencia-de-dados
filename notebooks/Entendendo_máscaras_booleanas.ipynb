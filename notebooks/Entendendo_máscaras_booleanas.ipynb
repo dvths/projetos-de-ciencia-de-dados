{
 "cells": [
  {
   "cell_type": "markdown",
   "id": "955ecf1a",
   "metadata": {},
   "source": [
    "# Exemplo de utilização da Máscara Boolena "
   ]
  },
  {
   "cell_type": "markdown",
   "id": "3a6506f7",
   "metadata": {},
   "source": [
    "**Assunto**: Exploração e limpeza de dados\n",
    "\n",
    "**Data**: 16/05/2023\n",
    "\n",
    "**Contexto**: Para realizar a verificação da duplicidade de IDs no dataset do estudo de caso, usamos o conceito de máscara booleana, uma maneira de filtrar um array para compararmos os valores dos seus elementos. \n",
    "\n",
    "**Objetivo**: Compreender o conceito de máscara booleana e a sua  aplicação.\n",
    "\n",
    "**Relacionado**:  <a href=\"./Lição_1_importação_de_dados.ipynb\">1  Exploração e limpeza de dados de contas de crédito de titulares inadimplentes após seis meses</a>"
   ]
  },
  {
   "cell_type": "markdown",
   "id": "19da5e80",
   "metadata": {},
   "source": [
    "Uma máscara booleana ou máscara lógica é uma forma de filrar uma array, ou série, obedencendo alguma condição. A saída dessa condição é uma array contendo um série de valore `True` e `False` onde cada elemento da saída corresponde a um elementos da entrada com resultado `True` se a condição é atendida.\n",
    "(KLOSTERMAN, 2020, p 32 - Máscaras booleanas)\n",
    "\n",
    "Para ilustrar esse conceito, podemos usar **dados sintéticos**, isto é, dados de teste que podemos descartar depois. \n",
    "\n",
    "Para gerarmos dadso sintéticos, usaremos NumPy e seu módulo `ramdom`: \n"
   ]
  },
  {
   "cell_type": "code",
   "execution_count": 2,
   "id": "c4d33641",
   "metadata": {},
   "outputs": [],
   "source": [
    "import numpy as np"
   ]
  },
  {
   "cell_type": "code",
   "execution_count": 4,
   "id": "e54c53e7",
   "metadata": {},
   "outputs": [],
   "source": [
    "np.random.seed(seed=24)"
   ]
  },
  {
   "cell_type": "code",
   "execution_count": 5,
   "id": "cc3ce886",
   "metadata": {},
   "outputs": [],
   "source": [
    "random_integers = np.random.randint(low=1, high=5, size=100)\n"
   ]
  },
  {
   "cell_type": "markdown",
   "id": "731d9336",
   "metadata": {},
   "source": [
    "Importamos o pacote NumPy com `np`. Depois \"semeamos\" 24 posições. Em seguida, armazenamos na variável `random_integers` um conjunto de 100 inteiros aleatóreos, selecionados de 1 à 5. Se examinarmos os primerios 5 elementos gerados teremos:"
   ]
  },
  {
   "cell_type": "code",
   "execution_count": 6,
   "id": "7e8637e0",
   "metadata": {},
   "outputs": [
    {
     "data": {
      "text/plain": [
       "array([3, 4, 1, 4, 2])"
      ]
     },
     "execution_count": 6,
     "metadata": {},
     "output_type": "execute_result"
    }
   ],
   "source": [
    "random_integers[:5]"
   ]
  },
  {
   "cell_type": "markdown",
   "id": "6ee513c2",
   "metadata": {},
   "source": [
    "Para criar uma máscara booleana para conhecer todos os locais de todos os elementos de `random_integers` igual a 3: "
   ]
  },
  {
   "cell_type": "code",
   "execution_count": 7,
   "id": "5fbb7958",
   "metadata": {},
   "outputs": [],
   "source": [
    "is_equal_to_3 = random_integers == 3"
   ]
  },
  {
   "cell_type": "code",
   "execution_count": 8,
   "id": "27e331ca",
   "metadata": {},
   "outputs": [
    {
     "data": {
      "text/plain": [
       "array([ True, False, False, False, False])"
      ]
     },
     "execution_count": 8,
     "metadata": {},
     "output_type": "execute_result"
    }
   ],
   "source": [
    "is_equal_to_3[:5]"
   ]
  },
  {
   "cell_type": "markdown",
   "id": "f002139d",
   "metadata": {},
   "source": [
    "A próxima coisa que queremos saber é quantos elementos são iguais a 3. Podemos somar uma máscara booleana para que os valores sejam interpretados como 1, para `True` e 0, para `False`."
   ]
  },
  {
   "cell_type": "code",
   "execution_count": 9,
   "id": "594679ef",
   "metadata": {},
   "outputs": [
    {
     "data": {
      "text/plain": [
       "22"
      ]
     },
     "execution_count": 9,
     "metadata": {},
     "output_type": "execute_result"
    }
   ],
   "source": [
    "sum(is_equal_to_3)"
   ]
  },
  {
   "cell_type": "markdown",
   "id": "d59df1e8",
   "metadata": {},
   "source": [
    "\"Faz sentido, já que, com uma seleção aleatória igualmente provável de 5 valores possíveis, o esperado é que cada valor apareça 20% das vezes\" (p 33) (Conceito fundamental da probilidade, essa passagem pode ser um lik para as notas de probalilidade)"
   ]
  },
  {
   "cell_type": "markdown",
   "id": "94869d0e",
   "metadata": {},
   "source": [
    "Também podemos usar a máscara booleana para selecionar os elementos do array original que atendem a esa condição. A máscaras booleanas podem ser usadas diretamente para indexar arrays: "
   ]
  },
  {
   "cell_type": "code",
   "execution_count": 10,
   "id": "d88a26be",
   "metadata": {},
   "outputs": [
    {
     "data": {
      "text/plain": [
       "array([3, 3, 3, 3, 3, 3, 3, 3, 3, 3, 3, 3, 3, 3, 3, 3, 3, 3, 3, 3, 3, 3])"
      ]
     },
     "execution_count": 10,
     "metadata": {},
     "output_type": "execute_result"
    }
   ],
   "source": [
    "random_integers[is_equal_to_3]"
   ]
  },
  {
   "cell_type": "markdown",
   "id": "32eab2ee",
   "metadata": {},
   "source": [
    "Embora entender o conceito da máscara booleana seja fundamental, já que ela é usada em diversas situações, especificamente, é possível usar o método `.loc` de DataFrames para indexar linhas por uma máscara booleana. "
   ]
  }
 ],
 "metadata": {
  "kernelspec": {
   "display_name": "Python 3 (ipykernel)",
   "language": "python",
   "name": "python3"
  },
  "language_info": {
   "codemirror_mode": {
    "name": "ipython",
    "version": 3
   },
   "file_extension": ".py",
   "mimetype": "text/x-python",
   "name": "python",
   "nbconvert_exporter": "python",
   "pygments_lexer": "ipython3",
   "version": "3.11.3"
  },
  "toc": {
   "base_numbering": 1,
   "nav_menu": {},
   "number_sections": true,
   "sideBar": true,
   "skip_h1_title": false,
   "title_cell": "Table of Contents",
   "title_sidebar": "Contents",
   "toc_cell": false,
   "toc_position": {},
   "toc_section_display": true,
   "toc_window_display": false
  }
 },
 "nbformat": 4,
 "nbformat_minor": 5
}
